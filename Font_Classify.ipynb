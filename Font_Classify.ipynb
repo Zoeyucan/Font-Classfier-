{
 "cells": [
  {
   "cell_type": "code",
   "execution_count": 9,
   "id": "683b1dca",
   "metadata": {},
   "outputs": [
    {
     "name": "stdout",
     "output_type": "stream",
     "text": [
      "File processed successfully\n"
     ]
    }
   ],
   "source": [
    "# pre-processing data\n",
    "import os\n",
    "import random\n",
    "from PIL import Image\n",
    "\n",
    "# define path\n",
    "data_folder = './project_files/data'\n",
    "output_folder = './dataset/dataset'\n",
    "output_size = (100, 100)\n",
    "\n",
    "# Create output folder\n",
    "os.makedirs(output_folder, exist_ok=True)\n",
    "\n",
    "# Gets a list of subfolders\n",
    "subfolders = [folder for folder in os.listdir(data_folder) if os.path.isdir(os.path.join(data_folder, folder))]\n",
    "\n",
    "# Interate the folders for each class\n",
    "for folder in subfolders:\n",
    "    class_folder = os.path.join(data_folder, folder)\n",
    "    output_class_folder = os.path.join(output_folder, folder)\n",
    "    os.makedirs(output_class_folder, exist_ok=True)\n",
    "\n",
    "    images = os.listdir(class_folder)\n",
    "\n",
    "    # Save original picture\n",
    "    for image_name in images:\n",
    "        image_path = os.path.join(class_folder, image_name)\n",
    "        img = Image.open(image_path)\n",
    "\n",
    "        # Save original picture\n",
    "        original_path = os.path.join(output_class_folder, image_name)\n",
    "        # Center cutting\n",
    "        width, height = img.size\n",
    "        left = (width - output_size[0]) // 2\n",
    "        top = (height - output_size[1]) // 2\n",
    "        right = (width + output_size[0]) // 2\n",
    "        bottom = (height + output_size[1]) // 2\n",
    "        img = img.crop((left, top, right, bottom))\n",
    "        img.save(original_path)\n",
    "\n",
    "        # Rotate and resize\n",
    "        for i in range(3):  # 旋转3次\n",
    "            rotated_img = img.rotate(random.randint(0, 360))\n",
    "            resized_img = rotated_img.resize(output_size)\n",
    "\n",
    "            # 保存变换后的图片\n",
    "            transformed_image_name = image_name.split('.')[0] + f'_transformed_{i + 1}.png'\n",
    "            transformed_path = os.path.join(output_class_folder, transformed_image_name)\n",
    "            resized_img.save(transformed_path)\n",
    "print(\"File processed successfully\")"
   ]
  },
  {
   "cell_type": "code",
   "execution_count": 10,
   "id": "c75be2f4",
   "metadata": {},
   "outputs": [],
   "source": [
    "# Split train set and test set\n",
    "import os\n",
    "import shutil\n",
    "import random\n",
    "\n",
    "# Define path\n",
    "dataset_folder = './dataset/dataset'\n",
    "train_folder = './dataset/train'\n",
    "test_folder = './dataset/test'\n",
    "\n",
    "# Create the train and test folders\n",
    "os.makedirs(train_folder, exist_ok=True)\n",
    "os.makedirs(test_folder, exist_ok=True)\n",
    "\n",
    "# Gets a list of subfolders\n",
    "subfolders = [folder for folder in os.listdir(dataset_folder) if os.path.isdir(os.path.join(dataset_folder, folder))]\n",
    "\n",
    "# Iterate the folders for each class\n",
    "for folder in subfolders:\n",
    "    class_folder = os.path.join(dataset_folder, folder)\n",
    "    train_class_folder = os.path.join(train_folder, folder)\n",
    "    test_class_folder = os.path.join(test_folder, folder)\n",
    "    os.makedirs(train_class_folder, exist_ok=True)\n",
    "    os.makedirs(test_class_folder, exist_ok=True)\n",
    "    \n",
    "    images = os.listdir(class_folder)\n",
    "    \n",
    "    # split data to train and test\n",
    "    random.shuffle(images)\n",
    "    split_index = int(0.8 * len(images))\n",
    "    train_images = images[:split_index]\n",
    "    test_images = images[split_index:]\n",
    "    \n",
    "    # Copy train data to the train folder\n",
    "    for image_name in train_images:\n",
    "        src = os.path.join(class_folder, image_name)\n",
    "        dst = os.path.join(train_class_folder, image_name)\n",
    "        shutil.copyfile(src, dst)\n",
    "    \n",
    "    # Copy test data to the test folder\n",
    "    for image_name in test_images:\n",
    "        src = os.path.join(class_folder, image_name)\n",
    "        dst = os.path.join(test_class_folder, image_name)\n",
    "        shutil.copyfile(src, dst)\n",
    "print(\"Generated training set and test set successfully\")"
   ]
  },
  {
   "cell_type": "code",
   "execution_count": 11,
   "id": "2db8a55b",
   "metadata": {},
   "outputs": [
    {
     "name": "stdout",
     "output_type": "stream",
     "text": [
      "using cuda:0 device.\n"
     ]
    },
    {
     "name": "stderr",
     "output_type": "stream",
     "text": [
      "100%|████████████████████████████████████████████████████████████████████████████████| 159/159 [00:26<00:00,  5.90it/s]\n",
      "100%|██████████████████████████████████████████████████████████████████████████████████| 40/40 [00:03<00:00, 11.99it/s]\n",
      "  0%|                                                                                          | 0/159 [00:00<?, ?it/s]"
     ]
    },
    {
     "name": "stdout",
     "output_type": "stream",
     "text": [
      "Epoch:1/60.. Train Acc: 0.291.. Val Acc: 0.317.. Train Loss: 0.121.. Val Loss: 0.137.. Time: 30.63s\n"
     ]
    },
    {
     "name": "stderr",
     "output_type": "stream",
     "text": [
      "100%|████████████████████████████████████████████████████████████████████████████████| 159/159 [00:20<00:00,  7.72it/s]\n",
      "100%|██████████████████████████████████████████████████████████████████████████████████| 40/40 [00:02<00:00, 13.93it/s]\n",
      "  0%|                                                                                          | 0/159 [00:00<?, ?it/s]"
     ]
    },
    {
     "name": "stdout",
     "output_type": "stream",
     "text": [
      "Epoch:2/60.. Train Acc: 0.476.. Val Acc: 0.553.. Train Loss: 0.088.. Val Loss: 0.070.. Time: 23.87s\n"
     ]
    },
    {
     "name": "stderr",
     "output_type": "stream",
     "text": [
      "100%|████████████████████████████████████████████████████████████████████████████████| 159/159 [00:22<00:00,  7.12it/s]\n",
      "100%|██████████████████████████████████████████████████████████████████████████████████| 40/40 [00:02<00:00, 13.68it/s]\n",
      "  0%|                                                                                          | 0/159 [00:00<?, ?it/s]"
     ]
    },
    {
     "name": "stdout",
     "output_type": "stream",
     "text": [
      "Epoch:3/60.. Train Acc: 0.558.. Val Acc: 0.465.. Train Loss: 0.076.. Val Loss: 0.084.. Time: 25.58s\n"
     ]
    },
    {
     "name": "stderr",
     "output_type": "stream",
     "text": [
      "100%|████████████████████████████████████████████████████████████████████████████████| 159/159 [00:24<00:00,  6.50it/s]\n",
      "100%|██████████████████████████████████████████████████████████████████████████████████| 40/40 [00:03<00:00, 11.33it/s]\n",
      "  0%|                                                                                          | 0/159 [00:00<?, ?it/s]"
     ]
    },
    {
     "name": "stdout",
     "output_type": "stream",
     "text": [
      "Epoch:4/60.. Train Acc: 0.621.. Val Acc: 0.733.. Train Loss: 0.064.. Val Loss: 0.041.. Time: 28.41s\n"
     ]
    },
    {
     "name": "stderr",
     "output_type": "stream",
     "text": [
      "100%|████████████████████████████████████████████████████████████████████████████████| 159/159 [00:27<00:00,  5.86it/s]\n",
      "100%|██████████████████████████████████████████████████████████████████████████████████| 40/40 [00:03<00:00, 11.02it/s]\n",
      "  0%|                                                                                          | 0/159 [00:00<?, ?it/s]"
     ]
    },
    {
     "name": "stdout",
     "output_type": "stream",
     "text": [
      "Epoch:5/60.. Train Acc: 0.650.. Val Acc: 0.659.. Train Loss: 0.060.. Val Loss: 0.055.. Time: 31.20s\n"
     ]
    },
    {
     "name": "stderr",
     "output_type": "stream",
     "text": [
      "100%|████████████████████████████████████████████████████████████████████████████████| 159/159 [00:27<00:00,  5.73it/s]\n",
      "100%|██████████████████████████████████████████████████████████████████████████████████| 40/40 [00:03<00:00, 10.56it/s]\n",
      "  0%|                                                                                          | 0/159 [00:00<?, ?it/s]"
     ]
    },
    {
     "name": "stdout",
     "output_type": "stream",
     "text": [
      "Epoch:6/60.. Train Acc: 0.672.. Val Acc: 0.812.. Train Loss: 0.056.. Val Loss: 0.031.. Time: 31.89s\n"
     ]
    },
    {
     "name": "stderr",
     "output_type": "stream",
     "text": [
      "100%|████████████████████████████████████████████████████████████████████████████████| 159/159 [00:33<00:00,  4.82it/s]\n",
      "100%|██████████████████████████████████████████████████████████████████████████████████| 40/40 [00:03<00:00, 11.10it/s]\n",
      "  0%|                                                                                          | 0/159 [00:00<?, ?it/s]"
     ]
    },
    {
     "name": "stdout",
     "output_type": "stream",
     "text": [
      "Epoch:7/60.. Train Acc: 0.695.. Val Acc: 0.752.. Train Loss: 0.052.. Val Loss: 0.039.. Time: 36.94s\n"
     ]
    },
    {
     "name": "stderr",
     "output_type": "stream",
     "text": [
      "100%|████████████████████████████████████████████████████████████████████████████████| 159/159 [00:35<00:00,  4.50it/s]\n",
      "100%|██████████████████████████████████████████████████████████████████████████████████| 40/40 [00:04<00:00,  9.94it/s]\n",
      "  0%|                                                                                          | 0/159 [00:00<?, ?it/s]"
     ]
    },
    {
     "name": "stdout",
     "output_type": "stream",
     "text": [
      "Epoch:8/60.. Train Acc: 0.714.. Val Acc: 0.785.. Train Loss: 0.049.. Val Loss: 0.035.. Time: 39.66s\n"
     ]
    },
    {
     "name": "stderr",
     "output_type": "stream",
     "text": [
      "100%|████████████████████████████████████████████████████████████████████████████████| 159/159 [00:35<00:00,  4.43it/s]\n",
      "100%|██████████████████████████████████████████████████████████████████████████████████| 40/40 [00:04<00:00,  9.32it/s]\n",
      "  0%|                                                                                          | 0/159 [00:00<?, ?it/s]"
     ]
    },
    {
     "name": "stdout",
     "output_type": "stream",
     "text": [
      "Epoch:9/60.. Train Acc: 0.739.. Val Acc: 0.752.. Train Loss: 0.045.. Val Loss: 0.036.. Time: 40.56s\n"
     ]
    },
    {
     "name": "stderr",
     "output_type": "stream",
     "text": [
      "100%|████████████████████████████████████████████████████████████████████████████████| 159/159 [00:39<00:00,  3.98it/s]\n",
      "100%|██████████████████████████████████████████████████████████████████████████████████| 40/40 [00:04<00:00,  9.62it/s]\n",
      "  0%|                                                                                          | 0/159 [00:00<?, ?it/s]"
     ]
    },
    {
     "name": "stdout",
     "output_type": "stream",
     "text": [
      "Epoch:10/60.. Train Acc: 0.720.. Val Acc: 0.826.. Train Loss: 0.048.. Val Loss: 0.028.. Time: 44.47s\n"
     ]
    },
    {
     "name": "stderr",
     "output_type": "stream",
     "text": [
      "100%|████████████████████████████████████████████████████████████████████████████████| 159/159 [00:39<00:00,  4.04it/s]\n",
      "100%|██████████████████████████████████████████████████████████████████████████████████| 40/40 [00:04<00:00,  9.64it/s]\n",
      "  0%|                                                                                          | 0/159 [00:00<?, ?it/s]"
     ]
    },
    {
     "name": "stdout",
     "output_type": "stream",
     "text": [
      "Epoch:11/60.. Train Acc: 0.742.. Val Acc: 0.716.. Train Loss: 0.045.. Val Loss: 0.044.. Time: 43.84s\n"
     ]
    },
    {
     "name": "stderr",
     "output_type": "stream",
     "text": [
      "100%|████████████████████████████████████████████████████████████████████████████████| 159/159 [00:40<00:00,  3.90it/s]\n",
      "100%|██████████████████████████████████████████████████████████████████████████████████| 40/40 [00:05<00:00,  7.22it/s]\n",
      "  0%|                                                                                          | 0/159 [00:00<?, ?it/s]"
     ]
    },
    {
     "name": "stdout",
     "output_type": "stream",
     "text": [
      "Epoch:12/60.. Train Acc: 0.768.. Val Acc: 0.761.. Train Loss: 0.041.. Val Loss: 0.037.. Time: 46.68s\n"
     ]
    },
    {
     "name": "stderr",
     "output_type": "stream",
     "text": [
      "100%|████████████████████████████████████████████████████████████████████████████████| 159/159 [00:46<00:00,  3.43it/s]\n",
      "100%|██████████████████████████████████████████████████████████████████████████████████| 40/40 [00:05<00:00,  6.94it/s]\n",
      "  0%|                                                                                          | 0/159 [00:00<?, ?it/s]"
     ]
    },
    {
     "name": "stdout",
     "output_type": "stream",
     "text": [
      "Epoch:13/60.. Train Acc: 0.774.. Val Acc: 0.826.. Train Loss: 0.040.. Val Loss: 0.025.. Time: 52.53s\n"
     ]
    },
    {
     "name": "stderr",
     "output_type": "stream",
     "text": [
      "100%|████████████████████████████████████████████████████████████████████████████████| 159/159 [00:47<00:00,  3.37it/s]\n",
      "100%|██████████████████████████████████████████████████████████████████████████████████| 40/40 [00:05<00:00,  7.59it/s]\n",
      "  0%|                                                                                          | 0/159 [00:00<?, ?it/s]"
     ]
    },
    {
     "name": "stdout",
     "output_type": "stream",
     "text": [
      "Epoch:14/60.. Train Acc: 0.770.. Val Acc: 0.793.. Train Loss: 0.039.. Val Loss: 0.036.. Time: 54.01s\n"
     ]
    },
    {
     "name": "stderr",
     "output_type": "stream",
     "text": [
      "100%|████████████████████████████████████████████████████████████████████████████████| 159/159 [00:45<00:00,  3.51it/s]\n",
      "100%|██████████████████████████████████████████████████████████████████████████████████| 40/40 [00:05<00:00,  7.72it/s]\n",
      "  0%|                                                                                          | 0/159 [00:00<?, ?it/s]"
     ]
    },
    {
     "name": "stdout",
     "output_type": "stream",
     "text": [
      "Epoch:15/60.. Train Acc: 0.785.. Val Acc: 0.931.. Train Loss: 0.038.. Val Loss: 0.012.. Time: 50.74s\n"
     ]
    },
    {
     "name": "stderr",
     "output_type": "stream",
     "text": [
      "100%|████████████████████████████████████████████████████████████████████████████████| 159/159 [00:47<00:00,  3.35it/s]\n",
      "100%|██████████████████████████████████████████████████████████████████████████████████| 40/40 [00:04<00:00,  8.47it/s]\n",
      "  0%|                                                                                          | 0/159 [00:00<?, ?it/s]"
     ]
    },
    {
     "name": "stdout",
     "output_type": "stream",
     "text": [
      "Epoch:16/60.. Train Acc: 0.786.. Val Acc: 0.901.. Train Loss: 0.037.. Val Loss: 0.018.. Time: 52.52s\n"
     ]
    },
    {
     "name": "stderr",
     "output_type": "stream",
     "text": [
      "100%|████████████████████████████████████████████████████████████████████████████████| 159/159 [00:40<00:00,  3.96it/s]\n",
      "100%|██████████████████████████████████████████████████████████████████████████████████| 40/40 [00:03<00:00, 10.14it/s]\n",
      "  0%|                                                                                          | 0/159 [00:00<?, ?it/s]"
     ]
    },
    {
     "name": "stdout",
     "output_type": "stream",
     "text": [
      "Epoch:17/60.. Train Acc: 0.787.. Val Acc: 0.807.. Train Loss: 0.037.. Val Loss: 0.034.. Time: 44.75s\n"
     ]
    },
    {
     "name": "stderr",
     "output_type": "stream",
     "text": [
      "100%|████████████████████████████████████████████████████████████████████████████████| 159/159 [00:40<00:00,  3.89it/s]\n",
      "100%|██████████████████████████████████████████████████████████████████████████████████| 40/40 [00:05<00:00,  7.96it/s]\n",
      "  0%|                                                                                          | 0/159 [00:00<?, ?it/s]"
     ]
    },
    {
     "name": "stdout",
     "output_type": "stream",
     "text": [
      "Epoch:18/60.. Train Acc: 0.799.. Val Acc: 0.878.. Train Loss: 0.035.. Val Loss: 0.021.. Time: 46.22s\n"
     ]
    },
    {
     "name": "stderr",
     "output_type": "stream",
     "text": [
      "100%|████████████████████████████████████████████████████████████████████████████████| 159/159 [00:38<00:00,  4.09it/s]\n",
      "100%|██████████████████████████████████████████████████████████████████████████████████| 40/40 [00:03<00:00, 10.31it/s]\n",
      "  0%|                                                                                          | 0/159 [00:00<?, ?it/s]"
     ]
    },
    {
     "name": "stdout",
     "output_type": "stream",
     "text": [
      "Epoch:19/60.. Train Acc: 0.814.. Val Acc: 0.841.. Train Loss: 0.034.. Val Loss: 0.026.. Time: 43.13s\n"
     ]
    },
    {
     "name": "stderr",
     "output_type": "stream",
     "text": [
      "100%|████████████████████████████████████████████████████████████████████████████████| 159/159 [00:44<00:00,  3.60it/s]\n",
      "100%|██████████████████████████████████████████████████████████████████████████████████| 40/40 [00:06<00:00,  6.22it/s]\n",
      "  0%|                                                                                          | 0/159 [00:00<?, ?it/s]"
     ]
    },
    {
     "name": "stdout",
     "output_type": "stream",
     "text": [
      "Epoch:20/60.. Train Acc: 0.816.. Val Acc: 0.845.. Train Loss: 0.033.. Val Loss: 0.026.. Time: 51.19s\n"
     ]
    },
    {
     "name": "stderr",
     "output_type": "stream",
     "text": [
      "100%|████████████████████████████████████████████████████████████████████████████████| 159/159 [00:49<00:00,  3.21it/s]\n",
      "100%|██████████████████████████████████████████████████████████████████████████████████| 40/40 [00:05<00:00,  6.67it/s]\n",
      "  0%|                                                                                          | 0/159 [00:00<?, ?it/s]"
     ]
    },
    {
     "name": "stdout",
     "output_type": "stream",
     "text": [
      "Epoch:21/60.. Train Acc: 0.825.. Val Acc: 0.884.. Train Loss: 0.031.. Val Loss: 0.020.. Time: 55.85s\n"
     ]
    },
    {
     "name": "stderr",
     "output_type": "stream",
     "text": [
      "100%|████████████████████████████████████████████████████████████████████████████████| 159/159 [00:54<00:00,  2.90it/s]\n",
      "100%|██████████████████████████████████████████████████████████████████████████████████| 40/40 [00:05<00:00,  7.14it/s]\n",
      "  0%|                                                                                          | 0/159 [00:00<?, ?it/s]"
     ]
    },
    {
     "name": "stdout",
     "output_type": "stream",
     "text": [
      "Epoch:22/60.. Train Acc: 0.822.. Val Acc: 0.783.. Train Loss: 0.031.. Val Loss: 0.035.. Time: 60.83s\n"
     ]
    },
    {
     "name": "stderr",
     "output_type": "stream",
     "text": [
      "100%|████████████████████████████████████████████████████████████████████████████████| 159/159 [00:53<00:00,  2.96it/s]\n",
      "100%|██████████████████████████████████████████████████████████████████████████████████| 40/40 [00:05<00:00,  7.14it/s]\n",
      "  0%|                                                                                          | 0/159 [00:00<?, ?it/s]"
     ]
    },
    {
     "name": "stdout",
     "output_type": "stream",
     "text": [
      "Epoch:23/60.. Train Acc: 0.820.. Val Acc: 0.926.. Train Loss: 0.032.. Val Loss: 0.014.. Time: 59.64s\n"
     ]
    },
    {
     "name": "stderr",
     "output_type": "stream",
     "text": [
      "100%|████████████████████████████████████████████████████████████████████████████████| 159/159 [00:51<00:00,  3.09it/s]\n",
      "100%|██████████████████████████████████████████████████████████████████████████████████| 40/40 [00:04<00:00,  9.37it/s]\n",
      "  0%|                                                                                          | 0/159 [00:00<?, ?it/s]"
     ]
    },
    {
     "name": "stdout",
     "output_type": "stream",
     "text": [
      "Epoch:24/60.. Train Acc: 0.834.. Val Acc: 0.848.. Train Loss: 0.031.. Val Loss: 0.030.. Time: 56.07s\n"
     ]
    },
    {
     "name": "stderr",
     "output_type": "stream",
     "text": [
      "100%|████████████████████████████████████████████████████████████████████████████████| 159/159 [00:46<00:00,  3.42it/s]\n",
      "100%|██████████████████████████████████████████████████████████████████████████████████| 40/40 [00:05<00:00,  7.84it/s]\n",
      "  0%|                                                                                          | 0/159 [00:00<?, ?it/s]"
     ]
    },
    {
     "name": "stdout",
     "output_type": "stream",
     "text": [
      "Epoch:25/60.. Train Acc: 0.831.. Val Acc: 0.845.. Train Loss: 0.030.. Val Loss: 0.026.. Time: 52.03s\n"
     ]
    },
    {
     "name": "stderr",
     "output_type": "stream",
     "text": [
      "100%|████████████████████████████████████████████████████████████████████████████████| 159/159 [00:46<00:00,  3.39it/s]\n",
      "100%|██████████████████████████████████████████████████████████████████████████████████| 40/40 [00:04<00:00,  8.43it/s]\n",
      "  0%|                                                                                          | 0/159 [00:00<?, ?it/s]"
     ]
    },
    {
     "name": "stdout",
     "output_type": "stream",
     "text": [
      "Epoch:26/60.. Train Acc: 0.838.. Val Acc: 0.870.. Train Loss: 0.028.. Val Loss: 0.022.. Time: 52.11s\n"
     ]
    },
    {
     "name": "stderr",
     "output_type": "stream",
     "text": [
      "100%|████████████████████████████████████████████████████████████████████████████████| 159/159 [00:51<00:00,  3.09it/s]\n",
      "100%|██████████████████████████████████████████████████████████████████████████████████| 40/40 [00:05<00:00,  7.93it/s]\n",
      "  0%|                                                                                          | 0/159 [00:00<?, ?it/s]"
     ]
    },
    {
     "name": "stdout",
     "output_type": "stream",
     "text": [
      "Epoch:27/60.. Train Acc: 0.819.. Val Acc: 0.871.. Train Loss: 0.032.. Val Loss: 0.022.. Time: 56.77s\n"
     ]
    },
    {
     "name": "stderr",
     "output_type": "stream",
     "text": [
      "100%|████████████████████████████████████████████████████████████████████████████████| 159/159 [00:43<00:00,  3.61it/s]\n",
      "100%|██████████████████████████████████████████████████████████████████████████████████| 40/40 [00:05<00:00,  7.99it/s]\n",
      "  0%|                                                                                          | 0/159 [00:00<?, ?it/s]"
     ]
    },
    {
     "name": "stdout",
     "output_type": "stream",
     "text": [
      "Epoch:28/60.. Train Acc: 0.840.. Val Acc: 0.918.. Train Loss: 0.028.. Val Loss: 0.016.. Time: 49.34s\n"
     ]
    },
    {
     "name": "stderr",
     "output_type": "stream",
     "text": [
      "100%|████████████████████████████████████████████████████████████████████████████████| 159/159 [00:43<00:00,  3.69it/s]\n",
      "100%|██████████████████████████████████████████████████████████████████████████████████| 40/40 [00:04<00:00,  8.06it/s]\n",
      "  0%|                                                                                          | 0/159 [00:00<?, ?it/s]"
     ]
    },
    {
     "name": "stdout",
     "output_type": "stream",
     "text": [
      "Epoch:29/60.. Train Acc: 0.839.. Val Acc: 0.948.. Train Loss: 0.027.. Val Loss: 0.009.. Time: 48.37s\n"
     ]
    },
    {
     "name": "stderr",
     "output_type": "stream",
     "text": [
      "100%|████████████████████████████████████████████████████████████████████████████████| 159/159 [00:42<00:00,  3.71it/s]\n",
      "100%|██████████████████████████████████████████████████████████████████████████████████| 40/40 [00:04<00:00,  8.96it/s]\n",
      "  0%|                                                                                          | 0/159 [00:00<?, ?it/s]"
     ]
    },
    {
     "name": "stdout",
     "output_type": "stream",
     "text": [
      "Epoch:30/60.. Train Acc: 0.852.. Val Acc: 0.710.. Train Loss: 0.026.. Val Loss: 0.070.. Time: 47.62s\n"
     ]
    },
    {
     "name": "stderr",
     "output_type": "stream",
     "text": [
      "100%|████████████████████████████████████████████████████████████████████████████████| 159/159 [00:42<00:00,  3.78it/s]\n",
      "100%|██████████████████████████████████████████████████████████████████████████████████| 40/40 [00:04<00:00,  9.92it/s]\n",
      "  0%|                                                                                          | 0/159 [00:00<?, ?it/s]"
     ]
    },
    {
     "name": "stdout",
     "output_type": "stream",
     "text": [
      "Epoch:31/60.. Train Acc: 0.847.. Val Acc: 0.962.. Train Loss: 0.026.. Val Loss: 0.006.. Time: 46.41s\n"
     ]
    },
    {
     "name": "stderr",
     "output_type": "stream",
     "text": [
      "100%|████████████████████████████████████████████████████████████████████████████████| 159/159 [00:45<00:00,  3.46it/s]\n",
      "100%|██████████████████████████████████████████████████████████████████████████████████| 40/40 [00:04<00:00,  9.73it/s]\n",
      "  0%|                                                                                          | 0/159 [00:00<?, ?it/s]"
     ]
    },
    {
     "name": "stdout",
     "output_type": "stream",
     "text": [
      "Epoch:32/60.. Train Acc: 0.873.. Val Acc: 0.965.. Train Loss: 0.023.. Val Loss: 0.006.. Time: 50.44s\n"
     ]
    },
    {
     "name": "stderr",
     "output_type": "stream",
     "text": [
      "100%|████████████████████████████████████████████████████████████████████████████████| 159/159 [00:45<00:00,  3.52it/s]\n",
      "100%|██████████████████████████████████████████████████████████████████████████████████| 40/40 [00:05<00:00,  7.87it/s]\n",
      "  0%|                                                                                          | 0/159 [00:00<?, ?it/s]"
     ]
    },
    {
     "name": "stdout",
     "output_type": "stream",
     "text": [
      "Epoch:33/60.. Train Acc: 0.865.. Val Acc: 0.932.. Train Loss: 0.025.. Val Loss: 0.011.. Time: 50.54s\n"
     ]
    },
    {
     "name": "stderr",
     "output_type": "stream",
     "text": [
      "100%|████████████████████████████████████████████████████████████████████████████████| 159/159 [00:40<00:00,  3.91it/s]\n",
      "100%|██████████████████████████████████████████████████████████████████████████████████| 40/40 [00:03<00:00, 10.78it/s]\n",
      "  0%|                                                                                          | 0/159 [00:00<?, ?it/s]"
     ]
    },
    {
     "name": "stdout",
     "output_type": "stream",
     "text": [
      "Epoch:34/60.. Train Acc: 0.849.. Val Acc: 0.900.. Train Loss: 0.026.. Val Loss: 0.019.. Time: 44.63s\n"
     ]
    },
    {
     "name": "stderr",
     "output_type": "stream",
     "text": [
      "100%|████████████████████████████████████████████████████████████████████████████████| 159/159 [00:39<00:00,  4.02it/s]\n",
      "100%|██████████████████████████████████████████████████████████████████████████████████| 40/40 [00:04<00:00,  9.21it/s]\n",
      "  0%|                                                                                          | 0/159 [00:00<?, ?it/s]"
     ]
    },
    {
     "name": "stdout",
     "output_type": "stream",
     "text": [
      "Epoch:35/60.. Train Acc: 0.864.. Val Acc: 0.948.. Train Loss: 0.024.. Val Loss: 0.008.. Time: 44.23s\n"
     ]
    },
    {
     "name": "stderr",
     "output_type": "stream",
     "text": [
      "100%|████████████████████████████████████████████████████████████████████████████████| 159/159 [00:40<00:00,  3.93it/s]\n",
      "100%|██████████████████████████████████████████████████████████████████████████████████| 40/40 [00:05<00:00,  7.19it/s]\n",
      "  0%|                                                                                          | 0/159 [00:00<?, ?it/s]"
     ]
    },
    {
     "name": "stdout",
     "output_type": "stream",
     "text": [
      "Epoch:36/60.. Train Acc: 0.873.. Val Acc: 0.380.. Train Loss: 0.022.. Val Loss: 0.506.. Time: 46.39s\n"
     ]
    },
    {
     "name": "stderr",
     "output_type": "stream",
     "text": [
      "100%|████████████████████████████████████████████████████████████████████████████████| 159/159 [00:41<00:00,  3.87it/s]\n",
      "100%|██████████████████████████████████████████████████████████████████████████████████| 40/40 [00:04<00:00,  9.67it/s]\n",
      "  0%|                                                                                          | 0/159 [00:00<?, ?it/s]"
     ]
    },
    {
     "name": "stdout",
     "output_type": "stream",
     "text": [
      "Epoch:37/60.. Train Acc: 0.866.. Val Acc: 0.490.. Train Loss: 0.024.. Val Loss: 0.333.. Time: 45.56s\n"
     ]
    },
    {
     "name": "stderr",
     "output_type": "stream",
     "text": [
      "100%|████████████████████████████████████████████████████████████████████████████████| 159/159 [00:46<00:00,  3.41it/s]\n",
      "100%|██████████████████████████████████████████████████████████████████████████████████| 40/40 [00:04<00:00,  8.41it/s]\n",
      "  0%|                                                                                          | 0/159 [00:00<?, ?it/s]"
     ]
    },
    {
     "name": "stdout",
     "output_type": "stream",
     "text": [
      "Epoch:38/60.. Train Acc: 0.861.. Val Acc: 0.929.. Train Loss: 0.024.. Val Loss: 0.012.. Time: 51.71s\n"
     ]
    },
    {
     "name": "stderr",
     "output_type": "stream",
     "text": [
      "100%|████████████████████████████████████████████████████████████████████████████████| 159/159 [00:45<00:00,  3.48it/s]\n",
      "100%|██████████████████████████████████████████████████████████████████████████████████| 40/40 [00:04<00:00,  8.53it/s]\n",
      "  0%|                                                                                          | 0/159 [00:00<?, ?it/s]"
     ]
    },
    {
     "name": "stdout",
     "output_type": "stream",
     "text": [
      "Epoch:39/60.. Train Acc: 0.854.. Val Acc: 0.972.. Train Loss: 0.026.. Val Loss: 0.006.. Time: 50.66s\n"
     ]
    },
    {
     "name": "stderr",
     "output_type": "stream",
     "text": [
      "100%|████████████████████████████████████████████████████████████████████████████████| 159/159 [00:41<00:00,  3.82it/s]\n",
      "100%|██████████████████████████████████████████████████████████████████████████████████| 40/40 [00:05<00:00,  7.85it/s]\n",
      "  0%|                                                                                          | 0/159 [00:00<?, ?it/s]"
     ]
    },
    {
     "name": "stdout",
     "output_type": "stream",
     "text": [
      "Epoch:40/60.. Train Acc: 0.876.. Val Acc: 0.925.. Train Loss: 0.021.. Val Loss: 0.013.. Time: 47.00s\n"
     ]
    },
    {
     "name": "stderr",
     "output_type": "stream",
     "text": [
      "100%|████████████████████████████████████████████████████████████████████████████████| 159/159 [00:46<00:00,  3.44it/s]\n",
      "100%|██████████████████████████████████████████████████████████████████████████████████| 40/40 [00:04<00:00,  9.07it/s]\n",
      "  0%|                                                                                          | 0/159 [00:00<?, ?it/s]"
     ]
    },
    {
     "name": "stdout",
     "output_type": "stream",
     "text": [
      "Epoch:41/60.. Train Acc: 0.878.. Val Acc: 0.928.. Train Loss: 0.023.. Val Loss: 0.013.. Time: 51.04s\n"
     ]
    },
    {
     "name": "stderr",
     "output_type": "stream",
     "text": [
      "100%|████████████████████████████████████████████████████████████████████████████████| 159/159 [00:44<00:00,  3.55it/s]\n",
      "100%|██████████████████████████████████████████████████████████████████████████████████| 40/40 [00:04<00:00,  8.56it/s]\n",
      "  0%|                                                                                          | 0/159 [00:00<?, ?it/s]"
     ]
    },
    {
     "name": "stdout",
     "output_type": "stream",
     "text": [
      "Epoch:42/60.. Train Acc: 0.871.. Val Acc: 0.929.. Train Loss: 0.022.. Val Loss: 0.012.. Time: 49.84s\n"
     ]
    },
    {
     "name": "stderr",
     "output_type": "stream",
     "text": [
      "100%|████████████████████████████████████████████████████████████████████████████████| 159/159 [00:44<00:00,  3.54it/s]\n",
      "100%|██████████████████████████████████████████████████████████████████████████████████| 40/40 [00:04<00:00,  9.21it/s]\n",
      "  0%|                                                                                          | 0/159 [00:00<?, ?it/s]"
     ]
    },
    {
     "name": "stdout",
     "output_type": "stream",
     "text": [
      "Epoch:43/60.. Train Acc: 0.889.. Val Acc: 0.954.. Train Loss: 0.021.. Val Loss: 0.009.. Time: 49.67s\n"
     ]
    },
    {
     "name": "stderr",
     "output_type": "stream",
     "text": [
      "100%|████████████████████████████████████████████████████████████████████████████████| 159/159 [00:39<00:00,  4.01it/s]\n",
      "100%|██████████████████████████████████████████████████████████████████████████████████| 40/40 [00:04<00:00,  8.61it/s]\n",
      "  0%|                                                                                          | 0/159 [00:00<?, ?it/s]"
     ]
    },
    {
     "name": "stdout",
     "output_type": "stream",
     "text": [
      "Epoch:44/60.. Train Acc: 0.875.. Val Acc: 0.940.. Train Loss: 0.023.. Val Loss: 0.010.. Time: 44.58s\n"
     ]
    },
    {
     "name": "stderr",
     "output_type": "stream",
     "text": [
      "100%|████████████████████████████████████████████████████████████████████████████████| 159/159 [00:44<00:00,  3.59it/s]\n",
      "100%|██████████████████████████████████████████████████████████████████████████████████| 40/40 [00:04<00:00,  9.47it/s]\n",
      "  0%|                                                                                          | 0/159 [00:00<?, ?it/s]"
     ]
    },
    {
     "name": "stdout",
     "output_type": "stream",
     "text": [
      "Epoch:45/60.. Train Acc: 0.879.. Val Acc: 0.972.. Train Loss: 0.021.. Val Loss: 0.005.. Time: 48.88s\n"
     ]
    },
    {
     "name": "stderr",
     "output_type": "stream",
     "text": [
      "100%|████████████████████████████████████████████████████████████████████████████████| 159/159 [00:44<00:00,  3.53it/s]\n",
      "100%|██████████████████████████████████████████████████████████████████████████████████| 40/40 [00:04<00:00,  9.33it/s]\n",
      "  0%|                                                                                          | 0/159 [00:00<?, ?it/s]"
     ]
    },
    {
     "name": "stdout",
     "output_type": "stream",
     "text": [
      "Epoch:46/60.. Train Acc: 0.882.. Val Acc: 0.959.. Train Loss: 0.021.. Val Loss: 0.006.. Time: 49.69s\n"
     ]
    },
    {
     "name": "stderr",
     "output_type": "stream",
     "text": [
      "100%|████████████████████████████████████████████████████████████████████████████████| 159/159 [00:39<00:00,  3.99it/s]\n",
      "100%|██████████████████████████████████████████████████████████████████████████████████| 40/40 [00:04<00:00,  9.81it/s]\n",
      "  0%|                                                                                          | 0/159 [00:00<?, ?it/s]"
     ]
    },
    {
     "name": "stdout",
     "output_type": "stream",
     "text": [
      "Epoch:47/60.. Train Acc: 0.894.. Val Acc: 0.928.. Train Loss: 0.019.. Val Loss: 0.013.. Time: 44.26s\n"
     ]
    },
    {
     "name": "stderr",
     "output_type": "stream",
     "text": [
      "100%|████████████████████████████████████████████████████████████████████████████████| 159/159 [00:41<00:00,  3.84it/s]\n",
      "100%|██████████████████████████████████████████████████████████████████████████████████| 40/40 [00:05<00:00,  6.92it/s]\n",
      "  0%|                                                                                          | 0/159 [00:00<?, ?it/s]"
     ]
    },
    {
     "name": "stdout",
     "output_type": "stream",
     "text": [
      "Epoch:48/60.. Train Acc: 0.879.. Val Acc: 0.926.. Train Loss: 0.021.. Val Loss: 0.013.. Time: 47.55s\n"
     ]
    },
    {
     "name": "stderr",
     "output_type": "stream",
     "text": [
      "100%|████████████████████████████████████████████████████████████████████████████████| 159/159 [00:41<00:00,  3.86it/s]\n",
      "100%|██████████████████████████████████████████████████████████████████████████████████| 40/40 [00:04<00:00,  9.94it/s]\n",
      "  0%|                                                                                          | 0/159 [00:00<?, ?it/s]"
     ]
    },
    {
     "name": "stdout",
     "output_type": "stream",
     "text": [
      "Epoch:49/60.. Train Acc: 0.873.. Val Acc: 0.925.. Train Loss: 0.023.. Val Loss: 0.012.. Time: 45.53s\n"
     ]
    },
    {
     "name": "stderr",
     "output_type": "stream",
     "text": [
      "100%|████████████████████████████████████████████████████████████████████████████████| 159/159 [00:38<00:00,  4.15it/s]\n",
      "100%|██████████████████████████████████████████████████████████████████████████████████| 40/40 [00:03<00:00, 10.07it/s]\n",
      "  0%|                                                                                          | 0/159 [00:00<?, ?it/s]"
     ]
    },
    {
     "name": "stdout",
     "output_type": "stream",
     "text": [
      "Epoch:50/60.. Train Acc: 0.889.. Val Acc: 0.221.. Train Loss: 0.021.. Val Loss: 1.159.. Time: 42.64s\n"
     ]
    },
    {
     "name": "stderr",
     "output_type": "stream",
     "text": [
      "100%|████████████████████████████████████████████████████████████████████████████████| 159/159 [00:41<00:00,  3.84it/s]\n",
      "100%|██████████████████████████████████████████████████████████████████████████████████| 40/40 [00:04<00:00,  8.68it/s]\n",
      "  0%|                                                                                          | 0/159 [00:00<?, ?it/s]"
     ]
    },
    {
     "name": "stdout",
     "output_type": "stream",
     "text": [
      "Epoch:51/60.. Train Acc: 0.885.. Val Acc: 0.954.. Train Loss: 0.020.. Val Loss: 0.008.. Time: 46.30s\n"
     ]
    },
    {
     "name": "stderr",
     "output_type": "stream",
     "text": [
      "100%|████████████████████████████████████████████████████████████████████████████████| 159/159 [00:41<00:00,  3.84it/s]\n",
      "100%|██████████████████████████████████████████████████████████████████████████████████| 40/40 [00:05<00:00,  7.91it/s]\n",
      "  0%|                                                                                          | 0/159 [00:00<?, ?it/s]"
     ]
    },
    {
     "name": "stdout",
     "output_type": "stream",
     "text": [
      "Epoch:52/60.. Train Acc: 0.896.. Val Acc: 0.934.. Train Loss: 0.019.. Val Loss: 0.011.. Time: 46.77s\n"
     ]
    },
    {
     "name": "stderr",
     "output_type": "stream",
     "text": [
      "100%|████████████████████████████████████████████████████████████████████████████████| 159/159 [00:41<00:00,  3.83it/s]\n",
      "100%|██████████████████████████████████████████████████████████████████████████████████| 40/40 [00:04<00:00,  8.44it/s]\n",
      "  0%|                                                                                          | 0/159 [00:00<?, ?it/s]"
     ]
    },
    {
     "name": "stdout",
     "output_type": "stream",
     "text": [
      "Epoch:53/60.. Train Acc: 0.887.. Val Acc: 0.936.. Train Loss: 0.019.. Val Loss: 0.013.. Time: 46.59s\n"
     ]
    },
    {
     "name": "stderr",
     "output_type": "stream",
     "text": [
      "100%|████████████████████████████████████████████████████████████████████████████████| 159/159 [00:43<00:00,  3.67it/s]\n",
      "100%|██████████████████████████████████████████████████████████████████████████████████| 40/40 [00:04<00:00,  8.66it/s]\n",
      "  0%|                                                                                          | 0/159 [00:00<?, ?it/s]"
     ]
    },
    {
     "name": "stdout",
     "output_type": "stream",
     "text": [
      "Epoch:54/60.. Train Acc: 0.893.. Val Acc: 0.948.. Train Loss: 0.019.. Val Loss: 0.008.. Time: 48.25s\n"
     ]
    },
    {
     "name": "stderr",
     "output_type": "stream",
     "text": [
      "100%|████████████████████████████████████████████████████████████████████████████████| 159/159 [00:44<00:00,  3.54it/s]\n",
      "100%|██████████████████████████████████████████████████████████████████████████████████| 40/40 [00:04<00:00,  9.57it/s]\n",
      "  0%|                                                                                          | 0/159 [00:00<?, ?it/s]"
     ]
    },
    {
     "name": "stdout",
     "output_type": "stream",
     "text": [
      "Epoch:55/60.. Train Acc: 0.873.. Val Acc: 0.943.. Train Loss: 0.022.. Val Loss: 0.009.. Time: 49.43s\n"
     ]
    },
    {
     "name": "stderr",
     "output_type": "stream",
     "text": [
      "100%|████████████████████████████████████████████████████████████████████████████████| 159/159 [00:44<00:00,  3.57it/s]\n",
      "100%|██████████████████████████████████████████████████████████████████████████████████| 40/40 [00:04<00:00,  8.93it/s]\n",
      "  0%|                                                                                          | 0/159 [00:00<?, ?it/s]"
     ]
    },
    {
     "name": "stdout",
     "output_type": "stream",
     "text": [
      "Epoch:56/60.. Train Acc: 0.890.. Val Acc: 0.975.. Train Loss: 0.018.. Val Loss: 0.005.. Time: 49.29s\n"
     ]
    },
    {
     "name": "stderr",
     "output_type": "stream",
     "text": [
      "100%|████████████████████████████████████████████████████████████████████████████████| 159/159 [00:39<00:00,  4.03it/s]\n",
      "100%|██████████████████████████████████████████████████████████████████████████████████| 40/40 [00:05<00:00,  7.00it/s]\n",
      "  0%|                                                                                          | 0/159 [00:00<?, ?it/s]"
     ]
    },
    {
     "name": "stdout",
     "output_type": "stream",
     "text": [
      "Epoch:57/60.. Train Acc: 0.895.. Val Acc: 0.749.. Train Loss: 0.019.. Val Loss: 0.080.. Time: 45.44s\n"
     ]
    },
    {
     "name": "stderr",
     "output_type": "stream",
     "text": [
      "100%|████████████████████████████████████████████████████████████████████████████████| 159/159 [00:43<00:00,  3.64it/s]\n",
      "100%|██████████████████████████████████████████████████████████████████████████████████| 40/40 [00:05<00:00,  7.59it/s]\n",
      "  0%|                                                                                          | 0/159 [00:00<?, ?it/s]"
     ]
    },
    {
     "name": "stdout",
     "output_type": "stream",
     "text": [
      "Epoch:58/60.. Train Acc: 0.895.. Val Acc: 0.959.. Train Loss: 0.018.. Val Loss: 0.009.. Time: 49.36s\n"
     ]
    },
    {
     "name": "stderr",
     "output_type": "stream",
     "text": [
      "100%|████████████████████████████████████████████████████████████████████████████████| 159/159 [00:43<00:00,  3.67it/s]\n",
      "100%|██████████████████████████████████████████████████████████████████████████████████| 40/40 [00:04<00:00,  8.22it/s]\n",
      "  0%|                                                                                          | 0/159 [00:00<?, ?it/s]"
     ]
    },
    {
     "name": "stdout",
     "output_type": "stream",
     "text": [
      "Epoch:59/60.. Train Acc: 0.887.. Val Acc: 0.976.. Train Loss: 0.020.. Val Loss: 0.005.. Time: 48.47s\n"
     ]
    },
    {
     "name": "stderr",
     "output_type": "stream",
     "text": [
      "100%|████████████████████████████████████████████████████████████████████████████████| 159/159 [00:41<00:00,  3.81it/s]\n",
      "100%|██████████████████████████████████████████████████████████████████████████████████| 40/40 [00:03<00:00, 10.39it/s]\n"
     ]
    },
    {
     "name": "stdout",
     "output_type": "stream",
     "text": [
      "Epoch:60/60.. Train Acc: 0.885.. Val Acc: 0.934.. Train Loss: 0.021.. Val Loss: 0.012.. Time: 45.89s\n",
      "Total time: 46.41 m\n"
     ]
    }
   ],
   "source": [
    "# Build ResNet model and train it\n",
    "import os\n",
    "import sys\n",
    "import json\n",
    "import time\n",
    "import torch\n",
    "import torch.nn as nn\n",
    "import torch.optim as optim\n",
    "from torchvision import transforms, datasets\n",
    "from tqdm import tqdm\n",
    "import torch.nn.functional as F\n",
    "import numpy as np\n",
    "import matplotlib.pyplot as plt\n",
    "from sklearn.metrics import accuracy_score\n",
    "\n",
    "class BasicBlock(nn.Module):\n",
    "    expansion = 1\n",
    "\n",
    "    def __init__(self, in_channel, out_channel, stride=1, downsample=None, **kwargs):\n",
    "        super(BasicBlock, self).__init__()\n",
    "        self.conv1 = nn.Conv2d(in_channels=in_channel, out_channels=out_channel,\n",
    "                               kernel_size=3, stride=stride, padding=1, bias=False)\n",
    "        self.bn1 = nn.BatchNorm2d(out_channel)\n",
    "        self.relu = nn.ReLU()\n",
    "        self.conv2 = nn.Conv2d(in_channels=out_channel, out_channels=out_channel,\n",
    "                               kernel_size=3, stride=1, padding=1, bias=False)\n",
    "        self.bn2 = nn.BatchNorm2d(out_channel)\n",
    "        self.downsample = downsample\n",
    "\n",
    "    def forward(self, x):\n",
    "        identity = x\n",
    "        if self.downsample is not None:\n",
    "            identity = self.downsample(x)\n",
    "\n",
    "        out = self.conv1(x)\n",
    "        out = self.bn1(out)\n",
    "        out = self.relu(out)\n",
    "\n",
    "        out = self.conv2(out)\n",
    "        out = self.bn2(out)\n",
    "\n",
    "        out += identity\n",
    "        out = self.relu(out)\n",
    "\n",
    "        return out\n",
    "\n",
    "\n",
    "class Bottleneck(nn.Module):\n",
    "\n",
    "    expansion = 4\n",
    "\n",
    "    def __init__(self, in_channel, out_channel, stride=1, downsample=None,\n",
    "                 groups=1, width_per_group=64):\n",
    "        super(Bottleneck, self).__init__()\n",
    "\n",
    "        width = int(out_channel * (width_per_group / 64.)) * groups\n",
    "\n",
    "        self.conv1 = nn.Conv2d(in_channels=in_channel, out_channels=width,\n",
    "                               kernel_size=1, stride=1, bias=False)  # squeeze channels\n",
    "        self.bn1 = nn.BatchNorm2d(width)\n",
    "        # -----------------------------------------\n",
    "        self.conv2 = nn.Conv2d(in_channels=width, out_channels=width, groups=groups,\n",
    "                               kernel_size=3, stride=stride, bias=False, padding=1)\n",
    "        self.bn2 = nn.BatchNorm2d(width)\n",
    "        # -----------------------------------------\n",
    "        self.conv3 = nn.Conv2d(in_channels=width, out_channels=out_channel*self.expansion,\n",
    "                               kernel_size=1, stride=1, bias=False)  # unsqueeze channels\n",
    "        self.bn3 = nn.BatchNorm2d(out_channel*self.expansion)\n",
    "        self.relu = nn.ReLU(inplace=True)\n",
    "        self.downsample = downsample\n",
    "\n",
    "    def forward(self, x):\n",
    "        identity = x\n",
    "        if self.downsample is not None:\n",
    "            identity = self.downsample(x)\n",
    "\n",
    "        out = self.conv1(x)\n",
    "        out = self.bn1(out)\n",
    "        out = self.relu(out)\n",
    "\n",
    "        out = self.conv2(out)\n",
    "        out = self.bn2(out)\n",
    "        out = self.relu(out)\n",
    "\n",
    "        out = self.conv3(out)\n",
    "        out = self.bn3(out)\n",
    "\n",
    "        out += identity\n",
    "        out = self.relu(out)\n",
    "\n",
    "        return out\n",
    "\n",
    "\n",
    "class ResNet(nn.Module):\n",
    "\n",
    "    def __init__(self,\n",
    "                 block,\n",
    "                 blocks_num,\n",
    "                 num_classes=10,\n",
    "                 include_top=True,\n",
    "                 groups=1,\n",
    "                 width_per_group=64):\n",
    "        super(ResNet, self).__init__()\n",
    "        self.include_top = include_top\n",
    "        self.in_channel = 64\n",
    "\n",
    "        self.groups = groups\n",
    "        self.width_per_group = width_per_group\n",
    "\n",
    "        self.conv1 = nn.Conv2d(3, self.in_channel, kernel_size=7, stride=2,\n",
    "                               padding=3, bias=False)\n",
    "        self.bn1 = nn.BatchNorm2d(self.in_channel)\n",
    "        self.relu = nn.ReLU(inplace=True)\n",
    "        self.maxpool = nn.MaxPool2d(kernel_size=3, stride=2, padding=1)\n",
    "        self.layer1 = self._make_layer(block, 64, blocks_num[0])\n",
    "        self.layer2 = self._make_layer(block, 128, blocks_num[1], stride=2)\n",
    "        self.layer3 = self._make_layer(block, 256, blocks_num[2], stride=2)\n",
    "        self.layer4 = self._make_layer(block, 512, blocks_num[3], stride=2)\n",
    "        if self.include_top:\n",
    "            self.avgpool = nn.AdaptiveAvgPool2d((1, 1))  # output size = (1, 1)\n",
    "            self.fc = nn.Linear(512 * block.expansion, num_classes)\n",
    "\n",
    "        for m in self.modules():\n",
    "            if isinstance(m, nn.Conv2d):\n",
    "                nn.init.kaiming_normal_(m.weight, mode='fan_out', nonlinearity='relu')\n",
    "\n",
    "    def _make_layer(self, block, channel, block_num, stride=1):\n",
    "        downsample = None\n",
    "        if stride != 1 or self.in_channel != channel * block.expansion:\n",
    "            downsample = nn.Sequential(\n",
    "                nn.Conv2d(self.in_channel, channel * block.expansion, kernel_size=1, stride=stride, bias=False),\n",
    "                nn.BatchNorm2d(channel * block.expansion))\n",
    "\n",
    "        layers = []\n",
    "        layers.append(block(self.in_channel,\n",
    "                            channel,\n",
    "                            downsample=downsample,\n",
    "                            stride=stride,\n",
    "                            groups=self.groups,\n",
    "                            width_per_group=self.width_per_group))\n",
    "        self.in_channel = channel * block.expansion\n",
    "\n",
    "        for _ in range(1, block_num):\n",
    "            layers.append(block(self.in_channel,\n",
    "                                channel,\n",
    "                                groups=self.groups,\n",
    "                                width_per_group=self.width_per_group))\n",
    "\n",
    "        return nn.Sequential(*layers)\n",
    "\n",
    "    def forward(self, x):\n",
    "        x = self.conv1(x)\n",
    "        x = self.bn1(x)\n",
    "        x = self.relu(x)\n",
    "        x = self.maxpool(x)\n",
    "\n",
    "        x = self.layer1(x)\n",
    "        x = self.layer2(x)\n",
    "        x = self.layer3(x)\n",
    "        x = self.layer4(x)\n",
    "\n",
    "        if self.include_top:\n",
    "            x = self.avgpool(x)\n",
    "            x = torch.flatten(x, 1)\n",
    "            x = self.fc(x)\n",
    "\n",
    "        return x\n",
    "\n",
    "def resnet34(num_classes=10, include_top=True):\n",
    "    # https://download.pytorch.org/models/resnet34-333f7ec4.pth\n",
    "    return ResNet(BasicBlock, [3, 4, 6, 3], num_classes=num_classes, include_top=include_top)\n",
    "\n",
    "\n",
    "def resnet50(num_classes=10, include_top=True):\n",
    "    return ResNet(Bottleneck, [3, 4, 6, 3], num_classes=num_classes, include_top=include_top)\n",
    "\n",
    "\n",
    "def resnet101(num_classes=10, include_top=True):\n",
    "    return ResNet(Bottleneck, [3, 4, 23, 3], num_classes=num_classes, include_top=include_top)\n",
    "\n",
    "\n",
    "def resnext50_32x4d(num_classes=10, include_top=True):\n",
    "    groups = 32\n",
    "    width_per_group = 4\n",
    "    return ResNet(Bottleneck, [3, 4, 6, 3],\n",
    "                  num_classes=num_classes,\n",
    "                  include_top=include_top,\n",
    "                  groups=groups,\n",
    "                  width_per_group=width_per_group)\n",
    "\n",
    "\n",
    "def resnext101_32x8d(num_classes=10, include_top=True):\n",
    "    groups = 32\n",
    "    width_per_group = 8\n",
    "    return ResNet(Bottleneck, [3, 4, 23, 3],\n",
    "                  num_classes=num_classes,\n",
    "                  include_top=include_top,\n",
    "                  groups=groups,\n",
    "                  width_per_group=width_per_group)\n",
    "\n",
    "\n",
    "# 定义训练验证函数\n",
    "def train_and_val(epochs, model, train_loader, val_loader, criterion, optimizer):\n",
    "    torch.cuda.empty_cache()\n",
    "    train_loss = []\n",
    "    val_loss = []\n",
    "    train_acc = []\n",
    "    val_acc = []\n",
    "    best_acc = 0\n",
    "\n",
    "    model.to(device)\n",
    "    fit_time = time.time()\n",
    "    for e in range(epochs):\n",
    "        since = time.time()\n",
    "        running_loss = 0\n",
    "        training_acc = 0\n",
    "        with tqdm(total=len(train_loader)) as pbar:\n",
    "            for image, label in train_loader:\n",
    "                # training phase\n",
    "\n",
    "                #                 images, labels = data\n",
    "                #             optimizer.zero_grad()\n",
    "                #             logits = net(images.to(device))\n",
    "                #             loss = loss_function(logits, labels.to(device))\n",
    "                #             loss.backward()\n",
    "                #             optimizer.step()\n",
    "\n",
    "                model.train()\n",
    "                optimizer.zero_grad()\n",
    "                image = image.to(device)\n",
    "                label = label.to(device)\n",
    "                # forward\n",
    "                output = model(image)\n",
    "                loss = criterion(output, label)\n",
    "                predict_t = torch.max(output, dim=1)[1]\n",
    "\n",
    "                # backward\n",
    "                loss.backward()\n",
    "                optimizer.step()  # update weight\n",
    "\n",
    "                running_loss += loss.item()\n",
    "                training_acc += torch.eq(predict_t, label).sum().item()\n",
    "                pbar.update(1)\n",
    "\n",
    "        model.eval()\n",
    "        val_losses = 0\n",
    "        validation_acc = 0\n",
    "        # validation loop\n",
    "        with torch.no_grad():\n",
    "            with tqdm(total=len(val_loader)) as pb:\n",
    "                for image, label in val_loader:\n",
    "                    image = image.to(device)\n",
    "                    label = label.to(device)\n",
    "                    output = model(image)\n",
    "\n",
    "                    # loss\n",
    "                    loss = criterion(output, label)\n",
    "                    predict_v = torch.max(output, dim=1)[1]\n",
    "\n",
    "                    val_losses += loss.item()\n",
    "                    validation_acc += torch.eq(predict_v, label).sum().item()\n",
    "                    pb.update(1)\n",
    "\n",
    "            # calculatio mean for each batch\n",
    "            train_loss.append(running_loss / len(train_dataset))\n",
    "            val_loss.append(val_losses / len(val_dataset))\n",
    "\n",
    "            train_acc.append(training_acc / len(train_dataset))\n",
    "            val_acc.append(validation_acc / len(val_dataset))\n",
    "            \n",
    "            torch.save(model, \"last.pth\")\n",
    "            if best_acc<(validation_acc / len(val_dataset)):\n",
    "                torch.save(model, \"best.pth\")\n",
    "            \n",
    "\n",
    "            print(\"Epoch:{}/{}..\".format(e + 1, epochs),\n",
    "                  \"Train Acc: {:.3f}..\".format(training_acc / len(train_dataset)),\n",
    "                  \"Val Acc: {:.3f}..\".format(validation_acc / len(val_dataset)),\n",
    "                  \"Train Loss: {:.3f}..\".format(running_loss / len(train_dataset)),\n",
    "                  \"Val Loss: {:.3f}..\".format(val_losses / len(val_dataset)),\n",
    "                  \"Time: {:.2f}s\".format((time.time() - since)))\n",
    "            \n",
    "\n",
    "    history = {'train_loss': train_loss, 'val_loss': val_loss,'train_acc': train_acc, 'val_acc': val_acc}\n",
    "    print('Total time: {:.2f} m'.format((time.time() - fit_time) / 60))\n",
    "    \n",
    "    return history\n",
    "\n",
    "device = torch.device(\"cuda:0\" if torch.cuda.is_available() else \"cpu\")\n",
    "print(\"using {} device.\".format(device))\n",
    "\n",
    "BATCH_SIZE = 16\n",
    "\n",
    "# 设置训练集和验证集\n",
    "data_transform = {\n",
    "    \"train\": transforms.Compose([transforms.RandomResizedCrop(224),\n",
    "                                 transforms.RandomHorizontalFlip(),\n",
    "                                 transforms.ToTensor(),\n",
    "                                 transforms.Normalize([0.485, 0.456, 0.406], [0.229, 0.224, 0.225])]),\n",
    "    \"val\": transforms.Compose([transforms.Resize(256),\n",
    "                               transforms.CenterCrop(224),\n",
    "                               transforms.ToTensor(),\n",
    "                               transforms.Normalize([0.485, 0.456, 0.406], [0.229, 0.224, 0.225])])}\n",
    "\n",
    "train_dataset = datasets.ImageFolder(\"./dataset/train/\", transform=data_transform[\"train\"])  # Training dataset\n",
    "train_loader = torch.utils.data.DataLoader(dataset=train_dataset, batch_size=BATCH_SIZE, shuffle=True,\n",
    "                                           num_workers=2)  # Load data\n",
    "\n",
    "val_dataset = datasets.ImageFolder(\"./dataset/test\", transform=data_transform[\"val\"])  # Test dataset\n",
    "val_loader = torch.utils.data.DataLoader(dataset=val_dataset, batch_size=BATCH_SIZE, shuffle=False,\n",
    "                                         num_workers=2)  # Load data\n",
    "\n",
    "\n",
    "# training\n",
    "net = resnet34()\n",
    "loss_function = nn.CrossEntropyLoss()  # set loss function\n",
    "optimizer = optim.Adam(net.parameters(), lr=0.0001)  # Set optimizer and learning rate\n",
    "epoch = 60\n",
    "\n",
    "history = train_and_val(epoch, net, train_loader, val_loader, loss_function, optimizer)\n"
   ]
  },
  {
   "cell_type": "code",
   "execution_count": 12,
   "id": "efb40412",
   "metadata": {},
   "outputs": [
    {
     "data": {
      "image/png": "[encoded data removed]",
      "text/plain": [
       "<Figure size 640x480 with 1 Axes>"
      ]
     },
     "metadata": {},
     "output_type": "display_data"
    },
    {
     "data": {
      "image/png": "[encoded data removed]",
      "text/plain": [
       "<Figure size 640x480 with 1 Axes>"
      ]
     },
     "metadata": {},
     "output_type": "display_data"
    }
   ],
   "source": [
    "def plot_loss(x, history):\n",
    "    plt.plot(x, history['val_loss'], label='val', marker='o')\n",
    "    plt.plot(x, history['train_loss'], label='train', marker='o')\n",
    "    plt.title('Loss per epoch')\n",
    "    plt.ylabel('loss')\n",
    "    plt.xlabel('epoch')\n",
    "    plt.legend(), plt.grid()\n",
    "    plt.show()\n",
    "\n",
    "\n",
    "def plot_acc(x, history):\n",
    "    plt.plot(x, history['train_acc'], label='train_acc', marker='x')\n",
    "    plt.plot(x, history['val_acc'], label='val_acc', marker='x')\n",
    "    plt.title('Score per epoch')\n",
    "    plt.ylabel('score')\n",
    "    plt.xlabel('epoch')\n",
    "    plt.legend(), plt.grid()\n",
    "    plt.show()\n",
    "\n",
    "plot_loss(np.arange(0,epoch), history)\n",
    "plot_acc(np.arange(0,epoch), history)\n"
   ]
  },
  {
   "cell_type": "code",
   "execution_count": 15,
   "id": "f5ea8714",
   "metadata": {},
   "outputs": [
    {
     "name": "stdout",
     "output_type": "stream",
     "text": [
      "Acuracy of AguafinaScript: 97%\n",
      "Acuracy of AlexBrush: 92%\n",
      "Acuracy of Allura: 88%\n",
      "Acuracy of alsscrp: 98%\n",
      "Acuracy of Canterbury: 95%\n",
      "Acuracy of GreatVibes: 97%\n",
      "Acuracy of Holligate Signature: 100%\n",
      "Acuracy of I Love Glitter: 98%\n",
      "Acuracy of James Fajardo: 97%\n",
      "Acuracy of OpenSans: 77%\n"
     ]
    }
   ],
   "source": [
    "# Output the accuracy of each type of font\n",
    "classes = ('AguafinaScript', 'AlexBrush', 'Allura', 'alsscrp', 'Canterbury', 'GreatVibes', 'Holligate Signature', 'I Love Glitter', 'James Fajardo', 'OpenSans')\n",
    "\n",
    "class_correct = [0.] * 10\n",
    "class_total = [0.] * 10 \n",
    "y_test, y_pred = [] , []\n",
    "X_test = []\n",
    "\n",
    "with torch.no_grad():\n",
    "    for images, labels in val_loader:\n",
    "        X_test.extend([_ for _ in images])\n",
    "        outputs = net(images.to(device))\n",
    "        _, predicted = torch.max(outputs, 1)\n",
    "        predicted = predicted.cpu()\n",
    "        c = (predicted == labels).squeeze()\n",
    "        for i, label in enumerate(labels):\n",
    "            class_correct[label] += c[i].item()\n",
    "            class_total[label] += 1\n",
    "        y_pred.extend(predicted.numpy())\n",
    "        y_test.extend(labels.cpu().numpy())      \n",
    "        \n",
    "for i in range(10):\n",
    "    print(f\"Acuracy of {classes[i]:5s}: {100*class_correct[i]/class_total[i]:2.0f}%\")\n"
   ]
  },
  {
   "cell_type": "code",
   "execution_count": 17,
   "id": "24d0b8b0",
   "metadata": {},
   "outputs": [
    {
     "name": "stdout",
     "output_type": "stream",
     "text": [
      "Accuracy is : 0.9340659340659341\n",
      "                     precision    recall  f1-score   support\n",
      "\n",
      "     AguafinaScript       1.00      0.97      0.98        67\n",
      "          AlexBrush       0.91      0.92      0.91        63\n",
      "             Allura       0.89      0.88      0.88        56\n",
      "            alsscrp       1.00      0.98      0.99        61\n",
      "         Canterbury       0.69      0.95      0.80        61\n",
      "         GreatVibes       1.00      0.97      0.98        66\n",
      "Holligate Signature       0.94      1.00      0.97        58\n",
      "     I Love Glitter       1.00      0.98      0.99        64\n",
      "      James Fajardo       1.00      0.97      0.98        59\n",
      "           OpenSans       1.00      0.77      0.87        82\n",
      "\n",
      "           accuracy                           0.93       637\n",
      "          macro avg       0.94      0.94      0.94       637\n",
      "       weighted avg       0.95      0.93      0.94       637\n",
      "\n"
     ]
    }
   ],
   "source": [
    "# Check precision, recall, and f1-score\n",
    "from sklearn.metrics import confusion_matrix, classification_report\n",
    "\n",
    "ac = accuracy_score(y_test, y_pred)\n",
    "cm = confusion_matrix(y_test, y_pred)\n",
    "cr = classification_report(y_test, y_pred, target_names=classes)\n",
    "print(\"Accuracy is :\",ac) \n",
    "print(cr)\n"
   ]
  },
  {
   "cell_type": "code",
   "execution_count": 18,
   "id": "478dee9b",
   "metadata": {},
   "outputs": [
    {
     "data": {
      "image/png": "[encoded data removed]",
      "text/plain": [
       "<Figure size 700x500 with 2 Axes>"
      ]
     },
     "metadata": {},
     "output_type": "display_data"
    }
   ],
   "source": [
    "# Check confusion matrix\n",
    "import seaborn as sns, pandas as pd\n",
    "\n",
    "labels = pd.DataFrame(cm).applymap(lambda v: f\"{v}\" if v!=0 else f\"\")\n",
    "plt.figure(figsize=(7,5))\n",
    "sns.heatmap(cm, annot=labels, fmt='s', xticklabels=classes, yticklabels=classes, linewidths=0.1 )\n",
    "plt.show()\n"
   ]
  },
  {
   "cell_type": "code",
   "execution_count": null,
   "id": "c55adb01",
   "metadata": {},
   "outputs": [],
   "source": []
  }
 ],
 "metadata": {
  "kernelspec": {
   "display_name": "PyCharm (时序)",
   "language": "python",
   "name": "pycharm-5888ef48"
  },
  "language_info": {
   "codemirror_mode": {
    "name": "ipython",
    "version": 3
   },
   "file_extension": ".py",
   "mimetype": "text/x-python",
   "name": "python",
   "nbconvert_exporter": "python",
   "pygments_lexer": "ipython3",
   "version": "3.8.13"
  }
 },
 "nbformat": 4,
 "nbformat_minor": 5
}
